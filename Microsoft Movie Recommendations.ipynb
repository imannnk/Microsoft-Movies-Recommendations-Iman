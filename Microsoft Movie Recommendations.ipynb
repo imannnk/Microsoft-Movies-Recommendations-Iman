{
 "cells": [
  {
   "cell_type": "markdown",
   "metadata": {},
   "source": [
    "Overview\n",
    "\n",
    "Microsoft is looking to make original film content in a new movie studio they have recently created. They are unsure of what kind of content to produce and need help figuring out which kinds of films have done well at the box office. Three seperate dataframes were looked at from multiple databases to come up with three findings and three recommendations. From looking at the sets of data from IMDB and Box Office Mojo, it could be concluded that Adventure and Action were the most frequent genres in the movies that made the most revenue around the world. Looking at the dataset from TMDB, it could be found that the average runtime for the movies with the highest popularity score was around 132 minutes. Finally, looking at the dataset from The Numbers, a positive correlation could be found between the amount of money a studio invests in their budget, and their return in revenue. Microsoft is recommended to make a movie that includes Adventure and Action, is around 132 minutes and invest an average of $192 USD million for their movie. "
   ]
  },
  {
   "cell_type": "markdown",
   "metadata": {},
   "source": [
    "Business Problem\n",
    "\n",
    "Microsoft are looking to know which kinds of films have done well previously, so that they can create their own films that are profitable and successful. The data analysis questions asked include what kind of genres were the most popular, how long do successful movies run for and how much do movie studios budget to receive a high return on their investment. These questions were important to look at as these are things Microsoft should definitely consider when they are making their films. "
   ]
  },
  {
   "cell_type": "markdown",
   "metadata": {},
   "source": [
    "Data Understanding\n",
    "\n",
    "Numerous datasets from four different online databases were used to analyse movies and draw conclusions about popularity, genres, revenue and profit.  \n",
    "\n",
    "The dataset used from IMDb (Internet Movie Database) combined the titles of movies with their genres and runtime minutes. A dataset from Box Office Mojo was used and it showed the domestic and foreign gross revenue made by movies from 2010-2018 as well as which studio the movie was produced in. These two datatsets were combined and matched up based on their titles for the purpose of drawing conclusions between revenue and genres of movies. \n",
    "\n"
   ]
  },
  {
   "cell_type": "code",
   "execution_count": 1,
   "metadata": {},
   "outputs": [],
   "source": [
    "import pandas as pd\n",
    "import numpy as np\n",
    "import matplotlib.pyplot as plt\n",
    "\n",
    "#firstly importing packages used to work with the datasets"
   ]
  },
  {
   "cell_type": "code",
   "execution_count": 2,
   "metadata": {},
   "outputs": [],
   "source": [
    "imdb_title_basics = pd.read_csv('zippedData/imdb.title.basics.csv.gz')\n",
    "\n",
    "#importing the first csv dataset from imdb and assigning it to a variable \"imdb_title_basics\""
   ]
  },
  {
   "cell_type": "code",
   "execution_count": 3,
   "metadata": {},
   "outputs": [],
   "source": [
    "bom_movie_gross_csv = pd.read_csv('zippedData/bom.movie_gross.csv.gz')\n",
    "\n",
    "#importing the second csv dataset from Box Office Mojo and assigning it to a variable \"bom_movie_gross_csv\""
   ]
  },
  {
   "cell_type": "code",
   "execution_count": 4,
   "metadata": {},
   "outputs": [],
   "source": [
    "merged_bom_gross_imdb_basics = pd.merge(bom_movie_gross_csv, imdb_title_basics, left_on='title', right_on='primary_title')\n",
    "\n",
    "#merging the two datasets from above into a dataframe using pd.merge, matching it based on title and primary title"
   ]
  },
  {
   "cell_type": "markdown",
   "metadata": {},
   "source": [
    "The dataset from TMDB (The Movie Database) included information relating the popularity of movies. This dataset was merged with the previously merged dataframe to match the movies with a high popularity score to their runtime minutes. They were merged based on their titles, something that both dataframes had in common. TMDB defines their popularity scores as a representation of a movies popularity over its lifetime. It is a score based on things such as number of votes for the movie, users who add it to their watchlists and favourites, number of views and its release date. "
   ]
  },
  {
   "cell_type": "code",
   "execution_count": 5,
   "metadata": {},
   "outputs": [],
   "source": [
    "tmdb_movies = pd.read_csv('zippedData/tmdb.movies.csv.gz')\n",
    "\n",
    "#importing the tmdb dataset"
   ]
  },
  {
   "cell_type": "markdown",
   "metadata": {},
   "source": [
    "The last dataset that was used was from TN (The Numbers) which is a database that provides detailed movie financial analysis, sales reports and release schedules. This dataset included movies and their production budgets as well as worldwide and domestic gross. "
   ]
  },
  {
   "cell_type": "code",
   "execution_count": 6,
   "metadata": {},
   "outputs": [],
   "source": [
    "tn_movie_budgets = pd.read_csv('zippedData/tn.movie_budgets.csv.gz')\n",
    "\n",
    "#importing the tn movie budget dataset"
   ]
  },
  {
   "cell_type": "markdown",
   "metadata": {},
   "source": [
    "Data Preparation\n",
    "\n",
    "Upon looking at the merged data frame I created using the IMDB and Box Office Mojo datasets, I could see that the two columns referring to domestic gross revenue and foreign gross revenue needed to be cleaned. Four numbers in the foreign gross revenue column included commas which meant that these values were too big to be completely typed out. My aim was to initially sort these values in descending order with the highest revenues at the top of the list, however, due to these commas in the column, they would not be sorted accurately. Both the domestic and foreign gross columns also included \"NaNs\" which meant that there were some that rows which didn't have revenue numbers associated with them.\n",
    "\n",
    "To combat these issues, I cleaned up the data by removing the commas and changing the NaNs to zero to give them a value. I knew that cleaning out the commas would not give me the real value that was meant to be represented by those numbers, and so I needed to multiply those by 1000000 in order to get their billion dollar value. However, as part of multiplying the values with removed commas, I set the paramater to multiple values under 3000 as I had found these were the ones with commas. This meant that a movie had fallen into this group that actually made under $3000 and wouldn't need to be multiplied. I treated this movie as an outlier and got rid of it from the dataset. I cross checked these values by checking the Box Office Mojo website for some of the movies and their foreign gross revenue amounts and saw that they had matched after I cleaned the data. \n",
    "\n",
    "After cleaning the data, I believed it would be more accurate to not only look at domestic and foreign gross revenue seperately, but combined as well. I then made a column called \"domestic and foreign\" that added the values from domestic and foreign gross together to show their worldwide revenue. \n",
    "\n",
    "After dealing with the foreign and domestic gross, I also wanted to look at the genres associated with the movies that had the highest revenues, however these genres were bunched up in groups, also containing commas. I had to then clean these out and seperate the genres so that I could get a count of them more accurately.\n",
    "\n",
    "The next step was to merge this merged data frame with the dataset from TMDB so that I could look at the popularity score of movies with their runtime minutes. \n",
    "\n",
    "The last dataset I looked at was from The Numbers which included the budgets and worldwide and domestic gross revenues. I wanted to see the profit, rather than just looking at budgets and revenue seperately and so I needed to subtract the budget from the total revenue. The data needed to be cleaned as it contained commas and dollar signs which had to be removed before it could be worked with. I then performed the additions of worldwide and domestic gross columns before making a new column \"worldwide_minus_budget\" which subtracted the budget from the total revenue to see the real profit. "
   ]
  },
  {
   "cell_type": "code",
   "execution_count": 7,
   "metadata": {},
   "outputs": [],
   "source": [
    "merged_bom_gross_imdb_basics['foreign_gross'] = merged_bom_gross_imdb_basics['foreign_gross'].str.replace(',', '', regex=True)\n",
    "\n",
    "#removing the commas"
   ]
  },
  {
   "cell_type": "code",
   "execution_count": 8,
   "metadata": {},
   "outputs": [],
   "source": [
    "merged_bom_gross_imdb_basics['foreign_gross'] = merged_bom_gross_imdb_basics['foreign_gross'].astype(float)\n",
    "\n",
    "#changing the datatype from object to float so that I could work with the numbers"
   ]
  },
  {
   "cell_type": "code",
   "execution_count": 9,
   "metadata": {},
   "outputs": [],
   "source": [
    "merged_bom_gross_imdb_basics['domestic_gross'].fillna(0, inplace=True)\n",
    "merged_bom_gross_imdb_basics['foreign_gross'].fillna(0, inplace=True)\n",
    "\n",
    "#getting rid of the NaNs and changing them to 0"
   ]
  },
  {
   "cell_type": "code",
   "execution_count": 10,
   "metadata": {},
   "outputs": [
    {
     "data": {
      "text/html": [
       "<div>\n",
       "<style scoped>\n",
       "    .dataframe tbody tr th:only-of-type {\n",
       "        vertical-align: middle;\n",
       "    }\n",
       "\n",
       "    .dataframe tbody tr th {\n",
       "        vertical-align: top;\n",
       "    }\n",
       "\n",
       "    .dataframe thead th {\n",
       "        text-align: right;\n",
       "    }\n",
       "</style>\n",
       "<table border=\"1\" class=\"dataframe\">\n",
       "  <thead>\n",
       "    <tr style=\"text-align: right;\">\n",
       "      <th></th>\n",
       "      <th>title</th>\n",
       "      <th>studio</th>\n",
       "      <th>domestic_gross</th>\n",
       "      <th>foreign_gross</th>\n",
       "      <th>year</th>\n",
       "      <th>tconst</th>\n",
       "      <th>primary_title</th>\n",
       "      <th>original_title</th>\n",
       "      <th>start_year</th>\n",
       "      <th>runtime_minutes</th>\n",
       "      <th>genres</th>\n",
       "    </tr>\n",
       "  </thead>\n",
       "  <tbody>\n",
       "    <tr>\n",
       "      <th>863</th>\n",
       "      <td>Chasing Mavericks</td>\n",
       "      <td>Fox</td>\n",
       "      <td>6000000.0</td>\n",
       "      <td>600.0</td>\n",
       "      <td>2012</td>\n",
       "      <td>tt1629757</td>\n",
       "      <td>Chasing Mavericks</td>\n",
       "      <td>Chasing Mavericks</td>\n",
       "      <td>2012</td>\n",
       "      <td>116.0</td>\n",
       "      <td>Biography,Drama,Sport</td>\n",
       "    </tr>\n",
       "  </tbody>\n",
       "</table>\n",
       "</div>"
      ],
      "text/plain": [
       "                 title studio  domestic_gross  foreign_gross  year     tconst  \\\n",
       "863  Chasing Mavericks    Fox       6000000.0          600.0  2012  tt1629757   \n",
       "\n",
       "         primary_title     original_title  start_year  runtime_minutes  \\\n",
       "863  Chasing Mavericks  Chasing Mavericks        2012            116.0   \n",
       "\n",
       "                    genres  \n",
       "863  Biography,Drama,Sport  "
      ]
     },
     "execution_count": 10,
     "metadata": {},
     "output_type": "execute_result"
    }
   ],
   "source": [
    "merged_bom_gross_imdb_basics[merged_bom_gross_imdb_basics['primary_title'].str.match('Chasing Mavericks')]\n",
    "\n",
    "#the movie which had a value under 3000"
   ]
  },
  {
   "cell_type": "code",
   "execution_count": 11,
   "metadata": {},
   "outputs": [
    {
     "data": {
      "text/plain": [
       "0       652000000.0\n",
       "1       535700000.0\n",
       "2       513900000.0\n",
       "3       398000000.0\n",
       "4       311500000.0\n",
       "           ...     \n",
       "3361            0.0\n",
       "3362            0.0\n",
       "3363            0.0\n",
       "3364            0.0\n",
       "3365            0.0\n",
       "Name: foreign_gross, Length: 3366, dtype: float64"
      ]
     },
     "execution_count": 11,
     "metadata": {},
     "output_type": "execute_result"
    }
   ],
   "source": [
    "for index, row in merged_bom_gross_imdb_basics.iterrows():\n",
    "    foreign_gross = row['foreign_gross']\n",
    "    if foreign_gross < float(3000):\n",
    "        foreign_gross = foreign_gross * float(1000000)\n",
    "        merged_bom_gross_imdb_basics.loc[index, 'foreign_gross'] = foreign_gross\n",
    "        \n",
    "merged_bom_gross_imdb_basics['foreign_gross']\n",
    "\n",
    "#multiplied the foreign gross numbers under 3000 (those which contained commas), by 1000000 to get their actual \n",
    "#billion dollar value"
   ]
  },
  {
   "cell_type": "code",
   "execution_count": 12,
   "metadata": {},
   "outputs": [],
   "source": [
    "merged_bom_gross_imdb_basics['domestic_and_foreign'] = merged_bom_gross_imdb_basics['domestic_gross'] + merged_bom_gross_imdb_basics['foreign_gross']\n",
    "\n",
    "#adding a column that sums the domestic and foreign gross revenue"
   ]
  },
  {
   "cell_type": "code",
   "execution_count": 13,
   "metadata": {},
   "outputs": [],
   "source": [
    "top_15_merged = merged_bom_gross_imdb_basics.sort_values(by=\"domestic_and_foreign\", ascending=False).head(15) \n",
    "\n",
    "#getting the top 15 movies based on their domestic and foreign revenue (those with the highest numbers)"
   ]
  },
  {
   "cell_type": "code",
   "execution_count": 14,
   "metadata": {},
   "outputs": [
    {
     "data": {
      "text/plain": [
       "Adventure    12\n",
       "Action       11\n",
       "Sci-Fi        7\n",
       "Animation     3\n",
       "Fantasy       2\n",
       "Comedy        2\n",
       "Crime         2\n",
       "Thriller      2\n",
       "Sport         1\n",
       "Romance       1\n",
       "Drama         1\n",
       "dtype: int64"
      ]
     },
     "execution_count": 14,
     "metadata": {},
     "output_type": "execute_result"
    }
   ],
   "source": [
    "single_genre_series = pd.Series(dtype = str)\n",
    "genres_column = top_15_merged['genres']\n",
    "for genre in genres_column:\n",
    "    if ',' in genre:\n",
    "        temp_genre_list = str(genre).split(\",\")\n",
    "        \n",
    "    else:\n",
    "        temp_genre_list = [genre]\n",
    "    temp_genre_series = pd.Series(temp_genre_list)   \n",
    "    single_genre_series = single_genre_series.append(temp_genre_series) \n",
    "\n",
    "single_genre_series.value_counts()\n",
    "\n",
    "#found the most popular genres by delimiting them by their commas, then adding them to new series"
   ]
  },
  {
   "cell_type": "code",
   "execution_count": 15,
   "metadata": {},
   "outputs": [],
   "source": [
    "merged_basics_tmdb = pd.merge(merged_bom_gross_imdb_basics, tmdb_movies, left_on='title', right_on='title')\n",
    "\n",
    "#merged the previous dataframe with tmdb movies dataset based on their titles"
   ]
  },
  {
   "cell_type": "code",
   "execution_count": 16,
   "metadata": {},
   "outputs": [],
   "source": [
    "tn_movie_budgets['worldwide_gross'] = tn_movie_budgets['worldwide_gross'].str.replace(',', '', regex=True)\n",
    "tn_movie_budgets['worldwide_gross'] = tn_movie_budgets['worldwide_gross'].str.replace('$', '', regex=True)\n",
    "tn_movie_budgets['domestic_gross'] = tn_movie_budgets['domestic_gross'].str.replace(',', '', regex=True)\n",
    "tn_movie_budgets['domestic_gross'] = tn_movie_budgets['domestic_gross'].str.replace('$', '', regex=True)\n",
    "tn_movie_budgets['production_budget'] = tn_movie_budgets['production_budget'].str.replace(',', '', regex=True)\n",
    "tn_movie_budgets['production_budget'] = tn_movie_budgets['production_budget'].str.replace('$', '', regex=True)\n",
    "\n",
    "#removing the $ and commas from the worldwide, domestic and budget columns and replacing them with nothing"
   ]
  },
  {
   "cell_type": "code",
   "execution_count": 17,
   "metadata": {},
   "outputs": [],
   "source": [
    "tn_movie_budgets['worldwide_gross'] = tn_movie_budgets['worldwide_gross'].astype(float)\n",
    "tn_movie_budgets['domestic_gross'] = tn_movie_budgets['domestic_gross'].astype(float)\n",
    "tn_movie_budgets['production_budget'] = tn_movie_budgets['production_budget'].astype(float)\n",
    "\n",
    "#changing the datatypes from an object to a float so that the numbers could be worked with"
   ]
  },
  {
   "cell_type": "code",
   "execution_count": 18,
   "metadata": {},
   "outputs": [],
   "source": [
    "tn_movie_budgets['domestic_worldwide'] = tn_movie_budgets['domestic_gross'] + tn_movie_budgets['worldwide_gross']\n",
    "\n",
    "#adding a column to add the domestic gross and worldwide gross to get the total revenue"
   ]
  },
  {
   "cell_type": "code",
   "execution_count": 19,
   "metadata": {},
   "outputs": [],
   "source": [
    "tn_movie_budgets['worldwide_minus_budget'] = tn_movie_budgets['domestic_worldwide'] - tn_movie_budgets['production_budget']\n",
    "\n",
    "#getting the worldwide gross and minusing budget from it to find out how much they took in profit"
   ]
  },
  {
   "cell_type": "markdown",
   "metadata": {},
   "source": [
    "Data Modelling\n",
    "\n",
    "Once all the dataframes were ready to be looked at, I had sorted them out to look at the most relevant data. The most relevant data to be looked at included those movies which made the most money, were the most popular and took home the most profit. This meant that the dataframes had to be ordered in specific ways.\n",
    "\n",
    "The first merged IMDB and Box Office Mojo dataframe was ordered in descending order to show which movies made the most revenue. I decided to focus on the top 15 movies with the highest worldwide revenue. After this, I wanted to match these movies with the highest revenue, with the genres they all encompassed. I made a series out of these genres and then was able to get the counts of the numbers of genres within this group of top 15 highest revenue movies. To make this easier to visualise, a bar graph was created to represent these genres.\n",
    "\n"
   ]
  },
  {
   "cell_type": "code",
   "execution_count": 20,
   "metadata": {},
   "outputs": [],
   "source": [
    "top_15_merged = merged_bom_gross_imdb_basics.sort_values(by=\"domestic_and_foreign\", ascending=False).head(15) \n",
    "\n",
    "#grabbing the top 15 highest revenue movies"
   ]
  },
  {
   "cell_type": "code",
   "execution_count": 21,
   "metadata": {},
   "outputs": [],
   "source": [
    "single_genre_series_values = single_genre_series.value_counts()\n",
    "\n",
    "#assigning a variable to the top 15 movies genres"
   ]
  },
  {
   "cell_type": "code",
   "execution_count": 22,
   "metadata": {},
   "outputs": [
    {
     "data": {
      "image/png": "[encoded data removed]",
      "text/plain": [
       "<Figure size 432x288 with 1 Axes>"
      ]
     },
     "metadata": {
      "needs_background": "light"
     },
     "output_type": "display_data"
    }
   ],
   "source": [
    "single_genre_series_values.plot.bar()\n",
    "\n",
    "plt.xlabel('Genres')\n",
    "plt.ylabel('Number of Genres')\n",
    "\n",
    "plt.title('Genres of the Top 15 Highest Revenue Movies')\n",
    "\n",
    "plt.show()\n",
    "\n",
    "#creating a bar graph to show these top 15 movies genres"
   ]
  },
  {
   "cell_type": "markdown",
   "metadata": {},
   "source": [
    "Looking at the next dataframe that included popularity and runtime minutes, I also got the top 15 movies with the highest popularity score. I then calculated the mean for the runtime minutes of these top 15 movies. I created a box and whisker plot to also show the representation of the runtime minues. \n"
   ]
  },
  {
   "cell_type": "code",
   "execution_count": 23,
   "metadata": {},
   "outputs": [],
   "source": [
    "merged_sorted_tmdb = merged_basics_tmdb.sort_values(by=\"popularity\", ascending=False).head(15)\n",
    "\n",
    "#grabbing the top 15 movies with the highest popularity scores"
   ]
  },
  {
   "cell_type": "code",
   "execution_count": 24,
   "metadata": {},
   "outputs": [
    {
     "data": {
      "text/plain": [
       "count     15.000000\n",
       "mean     132.600000\n",
       "std       18.078401\n",
       "min      101.000000\n",
       "25%      119.500000\n",
       "50%      133.000000\n",
       "75%      142.500000\n",
       "max      164.000000\n",
       "Name: runtime_minutes, dtype: float64"
      ]
     },
     "execution_count": 24,
     "metadata": {},
     "output_type": "execute_result"
    }
   ],
   "source": [
    "merged_sorted_tmdb['runtime_minutes'].describe()"
   ]
  },
  {
   "cell_type": "code",
   "execution_count": 25,
   "metadata": {},
   "outputs": [
    {
     "data": {
      "text/plain": [
       "132.6"
      ]
     },
     "execution_count": 25,
     "metadata": {},
     "output_type": "execute_result"
    }
   ],
   "source": [
    "merged_sorted_tmdb['runtime_minutes'].mean()\n",
    "\n",
    "#getting the mean for the runtime minutes"
   ]
  },
  {
   "cell_type": "code",
   "execution_count": 26,
   "metadata": {},
   "outputs": [],
   "source": [
    "list_merged_tmdb = merged_sorted_tmdb['runtime_minutes'].tolist()\n",
    "\n",
    "#putting the top 15 runtime minutes in a list in order to make the box plot"
   ]
  },
  {
   "cell_type": "code",
   "execution_count": 27,
   "metadata": {},
   "outputs": [
    {
     "data": {
      "image/png": "[encoded data removed]",
      "text/plain": [
       "<Figure size 432x288 with 1 Axes>"
      ]
     },
     "metadata": {
      "needs_background": "light"
     },
     "output_type": "display_data"
    }
   ],
   "source": [
    "plt.boxplot(list_merged_tmdb)\n",
    "\n",
    "plt.title (\"Runtime Minutes Spread\")\n",
    "\n",
    "plt.show()"
   ]
  },
  {
   "cell_type": "markdown",
   "metadata": {},
   "source": [
    "Looking at the last dataset by The Numbers, I wanted to see if there was a correlation between how much budget a movie studio puts in and the worldwide revenue that they make. I decided to look at the top 30 movies that earned the most profit. Profit is important to look at rather than just revenue as it takes into consideration how much the movie studio had invested and whether they made a good return on this. To model this, I got the correlation coefficient and also showed it in a scatter plot to visualise this correlation. I also looked at the average of the budget of these top 30 movies. \n"
   ]
  },
  {
   "cell_type": "code",
   "execution_count": 28,
   "metadata": {},
   "outputs": [],
   "source": [
    "top_30_movie_profit = tn_movie_budgets.sort_values(by=\"worldwide_minus_budget\", ascending=False).head(30)\n",
    "\n",
    "#getting the top 30 movies based on their profit"
   ]
  },
  {
   "cell_type": "code",
   "execution_count": 29,
   "metadata": {},
   "outputs": [
    {
     "data": {
      "text/plain": [
       "0.7243593322161729"
      ]
     },
     "execution_count": 29,
     "metadata": {},
     "output_type": "execute_result"
    }
   ],
   "source": [
    "top_30_movie_profit['production_budget'].corr(top_30_movie_profit['domestic_worldwide'])\n",
    "\n",
    "#getting the correlation coefficient number between budget and domestic + worldwide profit"
   ]
  },
  {
   "cell_type": "code",
   "execution_count": 30,
   "metadata": {},
   "outputs": [
    {
     "data": {
      "text/plain": [
       "192463333.33333334"
      ]
     },
     "execution_count": 30,
     "metadata": {},
     "output_type": "execute_result"
    }
   ],
   "source": [
    "top_30_movie_profit['production_budget'].mean()\n",
    "\n",
    "#the average of the top 30 movie budgets"
   ]
  },
  {
   "cell_type": "code",
   "execution_count": 31,
   "metadata": {},
   "outputs": [
    {
     "data": {
      "text/plain": [
       "Text(0.5, 1.0, 'Correlation between Budget & Revenue')"
      ]
     },
     "execution_count": 31,
     "metadata": {},
     "output_type": "execute_result"
    },
    {
     "data": {
      "image/png": "[encoded data removed]",
      "text/plain": [
       "<Figure size 432x288 with 1 Axes>"
      ]
     },
     "metadata": {
      "needs_background": "light"
     },
     "output_type": "display_data"
    }
   ],
   "source": [
    "plt.scatter(top_30_movie_profit['production_budget'], top_30_movie_profit['domestic_worldwide'])\n",
    "\n",
    "plt.xlabel('Budget')\n",
    "plt.ylabel('Revenue')\n",
    "\n",
    "plt.title('Correlation between Budget & Revenue')\n",
    "\n",
    "#creating this into a scatter plot to show the correlation between budget and worldwide revenue"
   ]
  },
  {
   "cell_type": "markdown",
   "metadata": {},
   "source": [
    "Evaluation and Results\n",
    "\n",
    "From the IMDB and Box Office Mojo dataframe, a few conclusions could be made. Based on the highest revenue received, the top 15 movies included Avengers, Jurassic World, Furious 7, Black Panther, Frozen, Incredibles, The Fate of the Furious, Iron Man 3, Minions and Capitan America. The genres that these movies contained were adventure, animation, comedy, action, drama, family, sci-fi, fantasy, biography and history. While most movies could be associated with three genres, 12 out of the top 15 movies included adventure and 11 out of the top 15 included action, showing that these were the most common genres of the top movies. \n",
    "\n",
    "Looking at the next dataframe which included the popularity scores from TMDB, the movies with the highest popularity scores included Avengers, John Wick, Spiderman, The Hobbit, Blade Runner, Guardians of the Galaxy, Logan and Ralph Breaks the Internet. Upon looking at these movies, their runtimes ranged from 101 minutes to 164 minutes. The mean of these runtime minutes was 132 minutes, showing that this is the average time for movies with a high popularity score. Looking at the mean was appropriate for this range of data as there were no outliers. The mean and median were not far from each other, with the median being 133 minutes. \n",
    "\n",
    "Finally, looking at the last dataframe which included budgets and profits of movies, the movie Avatar was a standout in earning profit. The films that followed Avatar in earning profit were Star Wars, Titanic, Avengers and Jurassic World. After collecting the top 30 movies with the highest profit, the correlation coefficient between budget and total worldwide revenue was 0.73. This suggests that there is a positive correlation between budget and revenue which means that the more money invested in a movie, the more return it could potentially make. These movies invested an average of $192 million USD. \n"
   ]
  },
  {
   "cell_type": "markdown",
   "metadata": {},
   "source": [
    "Conclusions and Recommendations\n",
    "\n",
    "From the findings, the following recommendations have been made for Microsoft. \n",
    "\n",
    "Recommendation One: To create a movie that includes the genres of adventure or action. These were the genres that the top movies. They can also include another genre such as comedy or sci-fi, as most movies could fall under two to three genres. \n",
    "\n",
    "Recommendation Two: Create a movie around 130 minutes. This was the average time for movies that had a high popularity score on TMDB. \n",
    "\n",
    "Recommendation Three: Due to there being a positive correlation between budget and revenue, it is recommended to invest around $192 million USD if a high return is wanted. \n",
    "\n",
    "\n",
    "Limitations and Future Analysis\n",
    "\n",
    "Some of the limitations of this report is to do with the datasets. Merging different datasets meant that some databases included movies that were left out in others. This was the case between IMDB and Box Office Mojo. A few movies that were listed in the IMDB datasets were not in the Box Office Mojo datasets, and so this means some data from certain movies were not considered. A limitation of the dataset from TMDB that calculated popularity scores only had measured the popularity from people to visited the TMDB website or had accounts on this website. It did not consider that many people use platforms such as streaming sites to watch movies or look at information for movies on other websites. The years of when the movies were released did not include movies of more recent times which could be recommended to also look at.  \n",
    "\n",
    "In the future, I could possibly look at actors and actresses that starred in the most popular films, and recommend that the company use them for their movies. I could also potentially look at the popularity of movies streamed online vs at the box office. \n"
   ]
  }
 ],
 "metadata": {
  "kernelspec": {
   "display_name": "Python (learn-env)",
   "language": "python",
   "name": "learn-env"
  },
  "language_info": {
   "codemirror_mode": {
    "name": "ipython",
    "version": 3
   },
   "file_extension": ".py",
   "mimetype": "text/x-python",
   "name": "python",
   "nbconvert_exporter": "python",
   "pygments_lexer": "ipython3",
   "version": "3.8.5"
  }
 },
 "nbformat": 4,
 "nbformat_minor": 4
}
